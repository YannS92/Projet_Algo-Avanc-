{
 "cells": [
  {
   "cell_type": "markdown",
   "metadata": {},
   "source": [
    "## Code de Steven"
   ]
  },
  {
   "cell_type": "code",
   "execution_count": 6,
   "metadata": {},
   "outputs": [
    {
     "name": "stdout",
     "output_type": "stream",
     "text": [
      "[[0. 1. 1. ... 1. 1. 1.]\n",
      " [1. 0. 1. ... 1. 1. 1.]\n",
      " [1. 1. 0. ... 1. 1. 1.]\n",
      " ...\n",
      " [1. 1. 1. ... 0. 1. 1.]\n",
      " [1. 1. 1. ... 1. 0. 1.]\n",
      " [1. 1. 1. ... 1. 1. 0.]]\n",
      "[[  0. 159.  65. ... 107.  93.  96.]\n",
      " [159.   0. 148. ... 176. 186.  81.]\n",
      " [ 65. 148.   0. ... 159. 141. 198.]\n",
      " ...\n",
      " [107. 176. 159. ...   0.   1. 184.]\n",
      " [ 93. 186. 141. ...   1.   0. 175.]\n",
      " [ 96.  81. 198. ... 184. 175.   0.]]\n",
      "\n",
      "Temps total d'exécution: 0.008432865142822266 secondes\n",
      "[0, 2, 1, 3, 0]\n",
      "[0, 3, 2, 1, 0]\n",
      "[0, 1, 3, 2, 0]\n",
      "\n",
      "Chemin avec l'algorithme du plus proche voisin : [0, 42, 86, 99, 80, 40, 53, 9, 65, 21, 32, 36, 31, 15, 61, 8, 24, 16, 83, 66, 56, 10, 63, 14, 47, 46, 3, 87, 74, 13, 26, 71, 23, 78, 52, 18, 96, 17, 45, 89, 81, 22, 5, 97, 98, 76, 94, 4, 85, 51, 67, 48, 29, 11, 37, 27, 84, 7, 30, 41, 57, 59, 49, 28, 34, 35, 43, 58, 68, 93, 73, 50, 38, 33, 77, 62, 82, 20, 75, 54, 55, 1, 60, 88, 70, 25, 2, 12, 19, 6, 69, 39, 72, 95, 64, 91, 79, 92, 44, 90, 0]\n",
      "\n",
      "Valeur de ce chemin : 733.0\n",
      "La valeur du chemin initial est : 25294.0\n",
      "\n",
      "---------------------------------------------\n",
      "\n",
      "Sa valeur est de : 3401.0 mn, soit 56.68 h\n",
      "\n",
      "Temps d'execution : 41.90247845649719 secondes\n",
      "\n",
      "\n"
     ]
    },
    {
     "data": {
      "text/plain": [
       "Text(0.5, 1.0, '\\nExploration de la zone de recherche par notre algorithme\\n')"
      ]
     },
     "execution_count": 6,
     "metadata": {},
     "output_type": "execute_result"
    },
    {
     "data": {
      "image/png": "[encoded data removed]",
      "text/plain": [
       "<Figure size 432x288 with 1 Axes>"
      ]
     },
     "metadata": {
      "needs_background": "light"
     },
     "output_type": "display_data"
    }
   ],
   "source": [
    "import numpy as np\n",
    "import time\n",
    "import matplotlib.pyplot as plt\n",
    "import timeit\n",
    "import random\n",
    "\n",
    "nb_villes=100 #Nombre de villes à générer\n",
    "tempsMax=200 #Temps (Distance) max séparant 2 villes\n",
    "\n",
    "random.seed(5)\n",
    "\n",
    "def generer_matrice_adjacence(taille,typeDeGraphe):\n",
    "    matrice = np.empty((taille, taille))              \n",
    "    if(typeDeGraphe == 'Complete'):               \n",
    "        for i in range(taille):\n",
    "            for j in range(i,taille):\n",
    "                valeur = 1 if i!=j else 0 \n",
    "                matrice[i][j] = valeur\n",
    "                matrice[j][i] = valeur\n",
    "    else:\n",
    "         for i in range(taille):\n",
    "            for j in range(i,taille):\n",
    "                valeur = random.randint(0, 1)  if i!=j else 0\n",
    "                matrice[i][j] = valeur\n",
    "                matrice[i][j] = valeur\n",
    "    return matrice\n",
    "    \n",
    "\n",
    "matriceAdjacence = generer_matrice_adjacence(nb_villes, \"Complete\")\n",
    "print(matriceAdjacence)\n",
    "\n",
    "def generer_matrice_pondere(matrice):\n",
    "    for i in range(len(matrice)):\n",
    "        for j in range(i,len(matrice)):\n",
    "            if(matrice[i][j] != 0):\n",
    "                valeur = random.randint(0, tempsMax)\n",
    "                matrice[i][j] = valeur\n",
    "                matrice[j][i] = valeur\n",
    "    return matrice\n",
    "\n",
    "\n",
    "\n",
    "start = time.time() #Commence le calcul du temps d'exécution\n",
    "graphe = generer_matrice_pondere(matriceAdjacence) ##Génère une matrice pour n villes et avec un temps maximum\n",
    "print(graphe)\n",
    "stop = time.time() #Stop le calcul du temps d'exécution\n",
    "\n",
    "print(\"\\nTemps total d'exécution: \" + str(stop-start) + \" secondes\")\n",
    "\n",
    "#Génère les voisins valides d'une solution\n",
    "def getNeighbors(path, graphe):\n",
    "    startNode=path.pop(0) #Réinitialisation du point de départ\n",
    "    path.pop(len(path)-1) #Réinitialisation du point d'arrivé\n",
    "    index=0\n",
    "    for i in range(len(path)):\n",
    "        for j in range(1,len(path)-i):\n",
    "            neighborPath=path.copy() #On fait une copie du chemin fourni\n",
    "            neighborPath[i], neighborPath[i+j] = neighborPath[i+j], neighborPath[i] #Swap des voisins\n",
    "            neighborPath.insert(0,startNode) #Ajout du point de départ\n",
    "            neighborPath.append(startNode) #Ajout du point d'arrivé\n",
    "            yield(neighborPath)\n",
    "\n",
    "# Test de la fonction\n",
    "for voisin in getNeighbors([0,1,2,3,0],graphe):\n",
    "    print(voisin)\n",
    "\n",
    "\n",
    "#Renvoi le temps total d'un chemin\n",
    "def getPathTime(path, graphe):\n",
    "    time=0 #Initialisation du temps\n",
    "    for i in range(len(path)-1):\n",
    "        time+=graphe[path[i]][path[i+1]] #On ajoute le temps \n",
    "    return time\n",
    "\n",
    "#Donne l'indice de la ville de plus proche de la ville actuelle non-visitée\n",
    "def nextCity(currentCityPosition,visitedCitiesPosition,graphe) :\n",
    "    mini = 1000000000\n",
    "    minimumPosition = -1\n",
    "    for i in range(len(graphe)) :\n",
    "        if visitedCitiesPosition[i] == False : #Index de la ville dans la liste des villes visitées\n",
    "            if graphe[currentCityPosition][i] < mini : #Si l'index de la ville actuelle est inférieur à mini\n",
    "                mini = graphe[currentCityPosition][i] #On récupère l'index de la ville actuelle\n",
    "                minimumPosition = i #On récupère le numéro dans graphe de la ville\n",
    "    return minimumPosition\n",
    "\n",
    "\n",
    "#Donne le chemin à suivre du voyageur de commerce sous forme de tableau d'indice\n",
    "def nearestNeighbor(startCity,graphe):\n",
    "    visitedCitiesPosition = [False] * len(graphe) #Pas de villes visitées au début\n",
    "    path = [0]* (len(graphe)) #Le chemin est vide\n",
    "\n",
    "    currentCityPosition = startCity #Indice de la ville de départ\n",
    "    visitedCitiesPosition[currentCityPosition] = True # On dit que la ville est visitée.\n",
    "    path[0] = currentCityPosition\n",
    "\n",
    "    for i in range(1,len(graphe)) :\n",
    "        indiceNextCity= nextCity(currentCityPosition,visitedCitiesPosition,graphe)\n",
    "        path[i] = indiceNextCity\n",
    "        currentCityPosition = indiceNextCity\n",
    "        visitedCitiesPosition[currentCityPosition] = True # La ville est visitée elle ne peut plus être prise.\n",
    "    path.append(path[0])\n",
    "    return path\n",
    "\n",
    "reNearestNeighbor=nearestNeighbor(0,graphe)\n",
    "\n",
    "print(\"\\nChemin avec l'algorithme du plus proche voisin : \" + str(reNearestNeighbor))\n",
    "print(\"\")\n",
    "print(\"Valeur de ce chemin : \" + str(getPathTime(reNearestNeighbor,graphe)))\n",
    "def tabuSearch(startNode, tabuLength, iterMax, graphe):\n",
    "    \"\"\"\n",
    "    1. On part d'un element de notre ensemble de recherche qu'on declare element courant\n",
    "    2. On considere le voisinage de l'element courant et on choisit le  meilleur d'entre\n",
    "       eux comme nouvel element courant, parmi ceux absents de la liste tabou, et on l'ajoute\n",
    "       a la liste tabou\n",
    "    3. On boucle jusqu'a condition de sortie.\n",
    "    \"\"\"\n",
    "\n",
    "\n",
    "    nbIter = 0\n",
    "    tabuList = list()\n",
    "\n",
    "    initialElement=[i for i in range(len(graphe))]\n",
    "    initialElement.remove(startNode)\n",
    "    initialElement.append(startNode)\n",
    "    initialElement.insert(0,startNode)\n",
    "        \n",
    "    # variables solutions pour la recherche du voisin optimal non tabou\n",
    "    currentElement = initialElement\n",
    "    bestNeighbor=currentElement\n",
    "    bestNeighborGlobal=currentElement\n",
    "\n",
    "    # variables valeurs pour la recherche du voisin optimal non tabou\n",
    "    bestCost=100000\n",
    "    bestCostGlobal=100000\n",
    "\n",
    "    # variables pour l'affichage\n",
    "    nbTabou=0\n",
    "    bestGlobalFound=0\n",
    "    \n",
    "    # liste des solutions courantes et des meilleures trouvées, pour afficher la trajectoire\n",
    "    paths=list()\n",
    "    bestPaths=list()\n",
    "    \n",
    "    while (nbIter<iterMax):\n",
    "        nbIter += 1       \n",
    "        bestCost=100000\n",
    "        # on parcours tous les voisins de la solution courante\n",
    "        for neighbor in getNeighbors(currentElement,graphe):\n",
    "            if getPathTime(neighbor,graphe) < bestCost:\n",
    "                if neighbor not in tabuList:\n",
    "                    bestCost = getPathTime(neighbor,graphe)\n",
    "                    bestNeighbor = neighbor         \n",
    "        # on met a jour la meilleure solution rencontree depuis le debut\n",
    "        if bestCost<bestCostGlobal:\n",
    "            bestGlobalFound+=1\n",
    "            bestNeighborGlobal=bestNeighbor\n",
    "            bestCostGlobal=bestCost\n",
    "            #print(\"Meilleur global trouvé ! : \" + str(bestNeighborGlobal) + \" avec une valeur de :\" + str(bestCostGlobal)\n",
    "        bestPaths.append(bestCostGlobal)\n",
    "        # on passe au meilleur voisin non tabou trouve     \n",
    "        currentElement=bestNeighbor.copy()\n",
    "        paths.append(bestCost)\n",
    "        \n",
    "        # on met a jour la liste tabou\n",
    "        tabuList.append(bestNeighbor)\n",
    "\n",
    "        # on supprime la solution la plus ancienne si la liste tabou à atteint sa taille maximale\n",
    "        if len(tabuList) > tabuLength:\n",
    "            del tabuList[0]\n",
    "\n",
    "    # On insère à l'élément initiale la ville d'origine\n",
    "    initialElement.insert(0,startNode)\n",
    "    initialElement.append(startNode)\n",
    "    return bestNeighborGlobal, paths, bestPaths, initialElement\n",
    "\n",
    "\n",
    "#------------------ Execution de l'algorithme ---------------------\n",
    "\n",
    "# Paramètres de génération du graphe\n",
    "nbVilles=100\n",
    "tempsMax=500\n",
    "\n",
    "graphe = generer_matrice_pondere(matriceAdjacence)\n",
    "\n",
    "# Modifier ce paramètre pour modifier le nombre d'itération maximum de la recherche tabou\n",
    "iterMaximum=300\n",
    "# Modifier ce paramètre pour modifier la taille maximum de la liste tabou\n",
    "tabuMax=len(graphe)\n",
    "# Modifier ce paramètre pour activer ou non l'utilisation du plus proche voisin comme chemin initial\n",
    "useNearestNeighbor=True\n",
    "# Modifier ce paramètre pour changer la ville de départ\n",
    "departureCity=0\n",
    "\n",
    "startTime = time.time()\n",
    "sol, paths, bestPaths, initialPath=tabuSearch(startNode=departureCity, tabuLength=tabuMax, iterMax=iterMaximum, graphe=graphe)\n",
    "execTime = (time.time() - startTime)\n",
    "\n",
    "print(\"La valeur du chemin initial est :\",str(getPathTime(initialPath,graphe)))\n",
    "print(\"\\n---------------------------------------------\")\n",
    "#print(\"\\nLe meilleur chemin trouvé est : \" + str(resNearestNeighbor(sol)))\n",
    "print(\"\\nSa valeur est de : \" + str(getPathTime(sol,graphe)) + \" mn, soit \" + str(\"{:.2f}\".format(getPathTime(sol,graphe)/60)) + \" h\")\n",
    "print(\"\\nTemps d'execution : \" + str(execTime) + \" secondes\\n\\n\")\n",
    "\n",
    "# Affichage des résultats sur le graphique\n",
    "plt.xlabel(\"Nombre d'itérations\", fontsize=16)\n",
    "plt.ylabel(\"Valeur de solution\", fontsize=16)\n",
    "\n",
    "res = plt.plot(range(iterMaximum), paths,label='Meilleure valeur pour chaque itération')\n",
    "res = plt.plot(range(iterMaximum), bestPaths,label='Meilleure valeur globale')\n",
    "\n",
    "plt.legend()\n",
    "font2 = {'size':14}\n",
    "plt.title(\"\\nExploration de la zone de recherche par notre algorithme\\n\", loc = 'center',fontdict = font2)"
   ]
  },
  {
   "cell_type": "code",
   "execution_count": null,
   "metadata": {},
   "outputs": [],
   "source": []
  },
  {
   "cell_type": "markdown",
   "metadata": {},
   "source": [
    "# Borne"
   ]
  },
  {
   "cell_type": "code",
   "execution_count": 10,
   "metadata": {},
   "outputs": [
    {
     "ename": "TypeError",
     "evalue": "object of type 'int' has no len()",
     "output_type": "error",
     "traceback": [
      "\u001b[1;31m---------------------------------------------------------------------------\u001b[0m",
      "\u001b[1;31mTypeError\u001b[0m                                 Traceback (most recent call last)",
      "\u001b[1;32mc:\\Users\\1113752\\Documents\\GitHub\\Projet_Algo-Dur\\testfred.ipynb Cell 5'\u001b[0m in \u001b[0;36m<cell line: 19>\u001b[1;34m()\u001b[0m\n\u001b[0;32m     <a href='vscode-notebook-cell:/c%3A/Users/1113752/Documents/GitHub/Projet_Algo-Dur/testfred.ipynb#ch0000004?line=15'>16</a>\u001b[0m     prob\u001b[39m.\u001b[39msolve()\n\u001b[0;32m     <a href='vscode-notebook-cell:/c%3A/Users/1113752/Documents/GitHub/Projet_Algo-Dur/testfred.ipynb#ch0000004?line=16'>17</a>\u001b[0m     \u001b[39mreturn\u001b[39;00m value(prob\u001b[39m.\u001b[39mobjective) \u001b[39mif\u001b[39;00m (LpStatus[prob\u001b[39m.\u001b[39mstatus] \u001b[39m==\u001b[39m \u001b[39m\"\u001b[39m\u001b[39mOptimal\u001b[39m\u001b[39m\"\u001b[39m) \u001b[39melse\u001b[39;00m \u001b[39mNone\u001b[39;00m\n\u001b[1;32m---> <a href='vscode-notebook-cell:/c%3A/Users/1113752/Documents/GitHub/Projet_Algo-Dur/testfred.ipynb#ch0000004?line=18'>19</a>\u001b[0m borne \u001b[39m=\u001b[39m borne_superieure()\n\u001b[0;32m     <a href='vscode-notebook-cell:/c%3A/Users/1113752/Documents/GitHub/Projet_Algo-Dur/testfred.ipynb#ch0000004?line=19'>20</a>\u001b[0m \u001b[39mif\u001b[39;00m borne \u001b[39mis\u001b[39;00m \u001b[39mnot\u001b[39;00m \u001b[39mNone\u001b[39;00m:\n\u001b[0;32m     <a href='vscode-notebook-cell:/c%3A/Users/1113752/Documents/GitHub/Projet_Algo-Dur/testfred.ipynb#ch0000004?line=20'>21</a>\u001b[0m     \u001b[39mprint\u001b[39m(\u001b[39m\"\u001b[39m\u001b[39mborne supérieure : \u001b[39m\u001b[39m\"\u001b[39m, borne)\n",
      "\u001b[1;32mc:\\Users\\1113752\\Documents\\GitHub\\Projet_Algo-Dur\\testfred.ipynb Cell 5'\u001b[0m in \u001b[0;36mborne_superieure\u001b[1;34m()\u001b[0m\n\u001b[0;32m     <a href='vscode-notebook-cell:/c%3A/Users/1113752/Documents/GitHub/Projet_Algo-Dur/testfred.ipynb#ch0000004?line=9'>10</a>\u001b[0m prob \u001b[39m=\u001b[39m LpProblem(\u001b[39m\"\u001b[39m\u001b[39mopti\u001b[39m\u001b[39m\"\u001b[39m, LpMinimize)\n\u001b[0;32m     <a href='vscode-notebook-cell:/c%3A/Users/1113752/Documents/GitHub/Projet_Algo-Dur/testfred.ipynb#ch0000004?line=11'>12</a>\u001b[0m \u001b[39m# fonction objective\u001b[39;00m\n\u001b[1;32m---> <a href='vscode-notebook-cell:/c%3A/Users/1113752/Documents/GitHub/Projet_Algo-Dur/testfred.ipynb#ch0000004?line=12'>13</a>\u001b[0m cost \u001b[39m=\u001b[39m lpSum(graphe[sol[i][j]][sol[i][j\u001b[39m+\u001b[39;49m\u001b[39m1\u001b[39;49m]] \u001b[39mfor\u001b[39;49;00m i \u001b[39min\u001b[39;49;00m sol \u001b[39mfor\u001b[39;49;00m j \u001b[39min\u001b[39;49;00m \u001b[39mrange\u001b[39;49m(\u001b[39mlen\u001b[39;49m(sol[i])\u001b[39m-\u001b[39;49m\u001b[39m1\u001b[39;49m))\n\u001b[0;32m     <a href='vscode-notebook-cell:/c%3A/Users/1113752/Documents/GitHub/Projet_Algo-Dur/testfred.ipynb#ch0000004?line=13'>14</a>\u001b[0m prob \u001b[39m+\u001b[39m\u001b[39m=\u001b[39m cost\n\u001b[0;32m     <a href='vscode-notebook-cell:/c%3A/Users/1113752/Documents/GitHub/Projet_Algo-Dur/testfred.ipynb#ch0000004?line=15'>16</a>\u001b[0m prob\u001b[39m.\u001b[39msolve()\n",
      "File \u001b[1;32m~\\AppData\\Local\\Packages\\PythonSoftwareFoundation.Python.3.10_qbz5n2kfra8p0\\LocalCache\\local-packages\\Python310\\site-packages\\pulp\\pulp.py:2281\u001b[0m, in \u001b[0;36mlpSum\u001b[1;34m(vector)\u001b[0m\n\u001b[0;32m   2275\u001b[0m \u001b[39mdef\u001b[39;00m \u001b[39mlpSum\u001b[39m(vector):\n\u001b[0;32m   2276\u001b[0m     \u001b[39m\"\"\"\u001b[39;00m\n\u001b[0;32m   2277\u001b[0m \u001b[39m    Calculate the sum of a list of linear expressions\u001b[39;00m\n\u001b[0;32m   2278\u001b[0m \n\u001b[0;32m   2279\u001b[0m \u001b[39m    :param vector: A list of linear expressions\u001b[39;00m\n\u001b[0;32m   2280\u001b[0m \u001b[39m    \"\"\"\u001b[39;00m\n\u001b[1;32m-> 2281\u001b[0m     \u001b[39mreturn\u001b[39;00m LpAffineExpression()\u001b[39m.\u001b[39;49maddInPlace(vector)\n",
      "File \u001b[1;32m~\\AppData\\Local\\Packages\\PythonSoftwareFoundation.Python.3.10_qbz5n2kfra8p0\\LocalCache\\local-packages\\Python310\\site-packages\\pulp\\pulp.py:896\u001b[0m, in \u001b[0;36mLpAffineExpression.addInPlace\u001b[1;34m(self, other)\u001b[0m\n\u001b[0;32m    894\u001b[0m         \u001b[39mself\u001b[39m\u001b[39m.\u001b[39maddInPlace(e)\n\u001b[0;32m    895\u001b[0m \u001b[39melif\u001b[39;00m \u001b[39misinstance\u001b[39m(other, \u001b[39mlist\u001b[39m) \u001b[39mor\u001b[39;00m \u001b[39misinstance\u001b[39m(other, Iterable):\n\u001b[1;32m--> 896\u001b[0m     \u001b[39mfor\u001b[39;00m e \u001b[39min\u001b[39;00m other:\n\u001b[0;32m    897\u001b[0m         \u001b[39mself\u001b[39m\u001b[39m.\u001b[39maddInPlace(e)\n\u001b[0;32m    898\u001b[0m \u001b[39melse\u001b[39;00m:\n",
      "\u001b[1;32mc:\\Users\\1113752\\Documents\\GitHub\\Projet_Algo-Dur\\testfred.ipynb Cell 5'\u001b[0m in \u001b[0;36m<genexpr>\u001b[1;34m(.0)\u001b[0m\n\u001b[0;32m     <a href='vscode-notebook-cell:/c%3A/Users/1113752/Documents/GitHub/Projet_Algo-Dur/testfred.ipynb#ch0000004?line=9'>10</a>\u001b[0m prob \u001b[39m=\u001b[39m LpProblem(\u001b[39m\"\u001b[39m\u001b[39mopti\u001b[39m\u001b[39m\"\u001b[39m, LpMinimize)\n\u001b[0;32m     <a href='vscode-notebook-cell:/c%3A/Users/1113752/Documents/GitHub/Projet_Algo-Dur/testfred.ipynb#ch0000004?line=11'>12</a>\u001b[0m \u001b[39m# fonction objective\u001b[39;00m\n\u001b[1;32m---> <a href='vscode-notebook-cell:/c%3A/Users/1113752/Documents/GitHub/Projet_Algo-Dur/testfred.ipynb#ch0000004?line=12'>13</a>\u001b[0m cost \u001b[39m=\u001b[39m lpSum(graphe[sol[i][j]][sol[i][j\u001b[39m+\u001b[39m\u001b[39m1\u001b[39m]] \u001b[39mfor\u001b[39;00m i \u001b[39min\u001b[39;00m sol \u001b[39mfor\u001b[39;00m j \u001b[39min\u001b[39;00m \u001b[39mrange\u001b[39m(\u001b[39mlen\u001b[39;49m(sol[i])\u001b[39m-\u001b[39m\u001b[39m1\u001b[39m))\n\u001b[0;32m     <a href='vscode-notebook-cell:/c%3A/Users/1113752/Documents/GitHub/Projet_Algo-Dur/testfred.ipynb#ch0000004?line=13'>14</a>\u001b[0m prob \u001b[39m+\u001b[39m\u001b[39m=\u001b[39m cost\n\u001b[0;32m     <a href='vscode-notebook-cell:/c%3A/Users/1113752/Documents/GitHub/Projet_Algo-Dur/testfred.ipynb#ch0000004?line=15'>16</a>\u001b[0m prob\u001b[39m.\u001b[39msolve()\n",
      "\u001b[1;31mTypeError\u001b[0m: object of type 'int' has no len()"
     ]
    }
   ],
   "source": [
    "from pulp import *\n",
    "\n",
    "def borne_superieure():\n",
    "    objets = range(len(graphe))\n",
    "\n",
    "    # variables\n",
    "    x = LpVariable.dicts('objet', objets, 0, 1)\n",
    "    \n",
    "    # probleme\n",
    "    prob = LpProblem(\"opti\", LpMinimize)\n",
    "\n",
    "    # fonction objective\n",
    "    cost = lpSum(graphe[sol[i][j]][sol[i][j+1]] for i in sol for j in range(len(sol[i])-1))\n",
    "    prob += cost\n",
    "\n",
    "    prob.solve()\n",
    "    return value(prob.objective) if (LpStatus[prob.status] == \"Optimal\") else None\n",
    "\n",
    "borne = borne_superieure()\n",
    "if borne is not None:\n",
    "    print(\"borne supérieure : \", borne)\n",
    "print(\"valeur de la solution :\", str(getPathTime(reNearestNeighbor,graphe)))"
   ]
  },
  {
   "cell_type": "markdown",
   "metadata": {},
   "source": [
    "## Qualité statistique des solutions"
   ]
  },
  {
   "cell_type": "code",
   "execution_count": 23,
   "metadata": {},
   "outputs": [
    {
     "data": {
      "application/vnd.jupyter.widget-view+json": {
       "model_id": "916966e313b049338404f5a6435d9103",
       "version_major": 2,
       "version_minor": 0
      },
      "text/plain": [
       "IntProgress(value=0, layout=Layout(width='100%'), max=200)"
      ]
     },
     "metadata": {},
     "output_type": "display_data"
    },
    {
     "ename": "TypeError",
     "evalue": "tuple indices must be integers or slices, not dict",
     "output_type": "error",
     "traceback": [
      "\u001b[1;31m---------------------------------------------------------------------------\u001b[0m",
      "\u001b[1;31mTypeError\u001b[0m                                 Traceback (most recent call last)",
      "\u001b[1;32mc:\\Users\\1113752\\Documents\\GitHub\\Projet_Algo-Dur\\testfred.ipynb Cell 6'\u001b[0m in \u001b[0;36m<cell line: 17>\u001b[1;34m()\u001b[0m\n\u001b[0;32m     <a href='vscode-notebook-cell:/c%3A/Users/1113752/Documents/GitHub/Projet_Algo-Dur/testfred.ipynb#ch0000004?line=19'>20</a>\u001b[0m borne \u001b[39m=\u001b[39m borne_superieure()\n\u001b[0;32m     <a href='vscode-notebook-cell:/c%3A/Users/1113752/Documents/GitHub/Projet_Algo-Dur/testfred.ipynb#ch0000004?line=21'>22</a>\u001b[0m solfin \u001b[39m=\u001b[39m recherche_tabou(sol, taille_tabou, iter_max)\n\u001b[1;32m---> <a href='vscode-notebook-cell:/c%3A/Users/1113752/Documents/GitHub/Projet_Algo-Dur/testfred.ipynb#ch0000004?line=22'>23</a>\u001b[0m val \u001b[39m=\u001b[39m weightSol(solfin)\n\u001b[0;32m     <a href='vscode-notebook-cell:/c%3A/Users/1113752/Documents/GitHub/Projet_Algo-Dur/testfred.ipynb#ch0000004?line=23'>24</a>\u001b[0m distance \u001b[39m=\u001b[39m val\u001b[39m*\u001b[39m\u001b[39m100\u001b[39m\u001b[39m/\u001b[39mborne\n\u001b[0;32m     <a href='vscode-notebook-cell:/c%3A/Users/1113752/Documents/GitHub/Projet_Algo-Dur/testfred.ipynb#ch0000004?line=24'>25</a>\u001b[0m bornes\u001b[39m.\u001b[39mappend(distance)\n",
      "\u001b[1;32mc:\\Users\\1113752\\Documents\\GitHub\\Projet_Algo-Dur\\testfred.ipynb Cell 1'\u001b[0m in \u001b[0;36mweightSol\u001b[1;34m(sol)\u001b[0m\n\u001b[0;32m    <a href='vscode-notebook-cell:/c%3A/Users/1113752/Documents/GitHub/Projet_Algo-Dur/testfred.ipynb#ch0000000?line=101'>102</a>\u001b[0m \u001b[39mdef\u001b[39;00m \u001b[39mweightSol\u001b[39m(sol):\n\u001b[1;32m--> <a href='vscode-notebook-cell:/c%3A/Users/1113752/Documents/GitHub/Projet_Algo-Dur/testfred.ipynb#ch0000000?line=102'>103</a>\u001b[0m     \u001b[39mreturn\u001b[39;00m \u001b[39msum\u001b[39;49m(matricePondere[sol[i][j]][sol[i][j\u001b[39m+\u001b[39;49m\u001b[39m1\u001b[39;49m]] \u001b[39mfor\u001b[39;49;00m i \u001b[39min\u001b[39;49;00m sol \u001b[39mfor\u001b[39;49;00m j \u001b[39min\u001b[39;49;00m \u001b[39mrange\u001b[39;49m(\u001b[39mlen\u001b[39;49m(sol[i])\u001b[39m-\u001b[39;49m\u001b[39m1\u001b[39;49m))\n",
      "\u001b[1;32mc:\\Users\\1113752\\Documents\\GitHub\\Projet_Algo-Dur\\testfred.ipynb Cell 1'\u001b[0m in \u001b[0;36m<genexpr>\u001b[1;34m(.0)\u001b[0m\n\u001b[0;32m    <a href='vscode-notebook-cell:/c%3A/Users/1113752/Documents/GitHub/Projet_Algo-Dur/testfred.ipynb#ch0000000?line=101'>102</a>\u001b[0m \u001b[39mdef\u001b[39;00m \u001b[39mweightSol\u001b[39m(sol):\n\u001b[1;32m--> <a href='vscode-notebook-cell:/c%3A/Users/1113752/Documents/GitHub/Projet_Algo-Dur/testfred.ipynb#ch0000000?line=102'>103</a>\u001b[0m     \u001b[39mreturn\u001b[39;00m \u001b[39msum\u001b[39m(matricePondere[sol[i][j]][sol[i][j\u001b[39m+\u001b[39m\u001b[39m1\u001b[39m]] \u001b[39mfor\u001b[39;00m i \u001b[39min\u001b[39;00m sol \u001b[39mfor\u001b[39;00m j \u001b[39min\u001b[39;00m \u001b[39mrange\u001b[39m(\u001b[39mlen\u001b[39m(sol[i])\u001b[39m-\u001b[39m\u001b[39m1\u001b[39m))\n",
      "\u001b[1;31mTypeError\u001b[0m: tuple indices must be integers or slices, not dict"
     ]
    }
   ],
   "source": [
    "from ipywidgets import IntProgress\n",
    "from IPython.display import display\n",
    "\n",
    "random.seed(5)\n",
    "bornes = deque(())\n",
    "\n",
    "iter_max = 50\n",
    "taille_tabou = 200\n",
    "\n",
    "# paramètres du test\n",
    "nb_tests = 200\n",
    "\n",
    "# on affiche la barre de progression\n",
    "bar = IntProgress(min=0, max=nb_tests, layout={\"width\" : \"100%\"})\n",
    "display(bar)\n",
    "\n",
    "for _ in range(nb_tests):\n",
    "\n",
    "    valeur_objets = recherche_tabou(sol,taille__tabou,iter_max)\n",
    "    borne = borne_superieure()\n",
    "\n",
    "    solfin = recherche_tabou(sol, taille_tabou, iter_max)\n",
    "    val = weightSol(solfin)\n",
    "    distance = val*100/borne\n",
    "    bornes.append(distance)\n",
    "    bar.value += 1\n",
    "    #À COMPLÉTER\n",
    "\n",
    "# on cache la barre de progression\n",
    "bar.close()"
   ]
  },
  {
   "cell_type": "code",
   "execution_count": 15,
   "metadata": {},
   "outputs": [
    {
     "ename": "NameError",
     "evalue": "name 'bornes' is not defined",
     "output_type": "error",
     "traceback": [
      "\u001b[1;31m---------------------------------------------------------------------------\u001b[0m",
      "\u001b[1;31mNameError\u001b[0m                                 Traceback (most recent call last)",
      "\u001b[1;32mc:\\Users\\1113752\\Documents\\GitHub\\Projet_Algo-Dur\\testfred.ipynb Cell 7'\u001b[0m in \u001b[0;36m<cell line: 1>\u001b[1;34m()\u001b[0m\n\u001b[1;32m----> <a href='vscode-notebook-cell:/c%3A/Users/1113752/Documents/GitHub/Projet_Algo-Dur/testfred.ipynb#ch0000005?line=0'>1</a>\u001b[0m plt\u001b[39m.\u001b[39mhist(bornes, edgecolor \u001b[39m=\u001b[39m \u001b[39m\"\u001b[39m\u001b[39mblack\u001b[39m\u001b[39m\"\u001b[39m)                        \n\u001b[0;32m      <a href='vscode-notebook-cell:/c%3A/Users/1113752/Documents/GitHub/Projet_Algo-Dur/testfred.ipynb#ch0000005?line=1'>2</a>\u001b[0m plt\u001b[39m.\u001b[39mxlabel(\u001b[39m\"\u001b[39m\u001b[39mdistance à la borne (pourcentage)\u001b[39m\u001b[39m\"\u001b[39m)               \n\u001b[0;32m      <a href='vscode-notebook-cell:/c%3A/Users/1113752/Documents/GitHub/Projet_Algo-Dur/testfred.ipynb#ch0000005?line=2'>3</a>\u001b[0m plt\u001b[39m.\u001b[39mylabel(\u001b[39m\"\u001b[39m\u001b[39mnombre d\u001b[39m\u001b[39m'\u001b[39m\u001b[39mintances\u001b[39m\u001b[39m\"\u001b[39m)                               \n",
      "\u001b[1;31mNameError\u001b[0m: name 'bornes' is not defined"
     ]
    }
   ],
   "source": [
    "plt.hist(bornes, edgecolor = \"black\")                        \n",
    "plt.xlabel(\"distance à la borne (pourcentage)\")               \n",
    "plt.ylabel(\"nombre d'intances\")                               \n",
    "plt.title(\"Distribution des distances à la borne supérieure\") "
   ]
  },
  {
   "cell_type": "markdown",
   "metadata": {},
   "source": [
    "## Histogramme détaillé"
   ]
  },
  {
   "cell_type": "code",
   "execution_count": 14,
   "metadata": {},
   "outputs": [
    {
     "ename": "NameError",
     "evalue": "name 'bornes' is not defined",
     "output_type": "error",
     "traceback": [
      "\u001b[1;31m---------------------------------------------------------------------------\u001b[0m",
      "\u001b[1;31mNameError\u001b[0m                                 Traceback (most recent call last)",
      "\u001b[1;32mc:\\Users\\1113752\\Documents\\GitHub\\Projet_Algo-Dur\\testfred.ipynb Cell 9'\u001b[0m in \u001b[0;36m<cell line: 1>\u001b[1;34m()\u001b[0m\n\u001b[1;32m----> <a href='vscode-notebook-cell:/c%3A/Users/1113752/Documents/GitHub/Projet_Algo-Dur/testfred.ipynb#ch0000008?line=0'>1</a>\u001b[0m plt\u001b[39m.\u001b[39mhist(bornes, bins\u001b[39m=\u001b[39m\u001b[39m50\u001b[39m, edgecolor \u001b[39m=\u001b[39m \u001b[39m\"\u001b[39m\u001b[39mblack\u001b[39m\u001b[39m\"\u001b[39m)\n",
      "\u001b[1;31mNameError\u001b[0m: name 'bornes' is not defined"
     ]
    }
   ],
   "source": [
    "plt.hist(bornes, bins=50, edgecolor = \"black\");"
   ]
  },
  {
   "cell_type": "markdown",
   "metadata": {},
   "source": [
    "## Optimisation des paramètres de l'algorithme"
   ]
  },
  {
   "cell_type": "code",
   "execution_count": 24,
   "metadata": {},
   "outputs": [
    {
     "data": {
      "application/vnd.jupyter.widget-view+json": {
       "model_id": "ebde7faa1f59428cb395cad7d8233f3f",
       "version_major": 2,
       "version_minor": 0
      },
      "text/plain": [
       "IntProgress(value=0, layout=Layout(width='100%'), max=1900)"
      ]
     },
     "metadata": {},
     "output_type": "display_data"
    },
    {
     "ename": "TypeError",
     "evalue": "tuple indices must be integers or slices, not dict",
     "output_type": "error",
     "traceback": [
      "\u001b[1;31m---------------------------------------------------------------------------\u001b[0m",
      "\u001b[1;31mTypeError\u001b[0m                                 Traceback (most recent call last)",
      "\u001b[1;32mc:\\Users\\1113752\\Documents\\GitHub\\Projet_Algo-Dur\\testfred.ipynb Cell 11'\u001b[0m in \u001b[0;36m<cell line: 25>\u001b[1;34m()\u001b[0m\n\u001b[0;32m     <a href='vscode-notebook-cell:/c%3A/Users/1113752/Documents/GitHub/Projet_Algo-Dur/testfred.ipynb#ch0000010?line=28'>29</a>\u001b[0m borne \u001b[39m=\u001b[39m borne_superieure()\n\u001b[0;32m     <a href='vscode-notebook-cell:/c%3A/Users/1113752/Documents/GitHub/Projet_Algo-Dur/testfred.ipynb#ch0000010?line=30'>31</a>\u001b[0m solfin \u001b[39m=\u001b[39m recherche_tabou(sol, taille_tabou, iter_max)\n\u001b[1;32m---> <a href='vscode-notebook-cell:/c%3A/Users/1113752/Documents/GitHub/Projet_Algo-Dur/testfred.ipynb#ch0000010?line=31'>32</a>\u001b[0m val \u001b[39m=\u001b[39m weightSol(solfin)\n\u001b[0;32m     <a href='vscode-notebook-cell:/c%3A/Users/1113752/Documents/GitHub/Projet_Algo-Dur/testfred.ipynb#ch0000010?line=32'>33</a>\u001b[0m distance \u001b[39m=\u001b[39m val\u001b[39m*\u001b[39m\u001b[39m100\u001b[39m\u001b[39m/\u001b[39mborne\n\u001b[0;32m     <a href='vscode-notebook-cell:/c%3A/Users/1113752/Documents/GitHub/Projet_Algo-Dur/testfred.ipynb#ch0000010?line=33'>34</a>\u001b[0m bornes\u001b[39m.\u001b[39mappend(distance)\n",
      "\u001b[1;32mc:\\Users\\1113752\\Documents\\GitHub\\Projet_Algo-Dur\\testfred.ipynb Cell 1'\u001b[0m in \u001b[0;36mweightSol\u001b[1;34m(sol)\u001b[0m\n\u001b[0;32m    <a href='vscode-notebook-cell:/c%3A/Users/1113752/Documents/GitHub/Projet_Algo-Dur/testfred.ipynb#ch0000000?line=101'>102</a>\u001b[0m \u001b[39mdef\u001b[39;00m \u001b[39mweightSol\u001b[39m(sol):\n\u001b[1;32m--> <a href='vscode-notebook-cell:/c%3A/Users/1113752/Documents/GitHub/Projet_Algo-Dur/testfred.ipynb#ch0000000?line=102'>103</a>\u001b[0m     \u001b[39mreturn\u001b[39;00m \u001b[39msum\u001b[39;49m(matricePondere[sol[i][j]][sol[i][j\u001b[39m+\u001b[39;49m\u001b[39m1\u001b[39;49m]] \u001b[39mfor\u001b[39;49;00m i \u001b[39min\u001b[39;49;00m sol \u001b[39mfor\u001b[39;49;00m j \u001b[39min\u001b[39;49;00m \u001b[39mrange\u001b[39;49m(\u001b[39mlen\u001b[39;49m(sol[i])\u001b[39m-\u001b[39;49m\u001b[39m1\u001b[39;49m))\n",
      "\u001b[1;32mc:\\Users\\1113752\\Documents\\GitHub\\Projet_Algo-Dur\\testfred.ipynb Cell 1'\u001b[0m in \u001b[0;36m<genexpr>\u001b[1;34m(.0)\u001b[0m\n\u001b[0;32m    <a href='vscode-notebook-cell:/c%3A/Users/1113752/Documents/GitHub/Projet_Algo-Dur/testfred.ipynb#ch0000000?line=101'>102</a>\u001b[0m \u001b[39mdef\u001b[39;00m \u001b[39mweightSol\u001b[39m(sol):\n\u001b[1;32m--> <a href='vscode-notebook-cell:/c%3A/Users/1113752/Documents/GitHub/Projet_Algo-Dur/testfred.ipynb#ch0000000?line=102'>103</a>\u001b[0m     \u001b[39mreturn\u001b[39;00m \u001b[39msum\u001b[39m(matricePondere[sol[i][j]][sol[i][j\u001b[39m+\u001b[39m\u001b[39m1\u001b[39m]] \u001b[39mfor\u001b[39;00m i \u001b[39min\u001b[39;00m sol \u001b[39mfor\u001b[39;00m j \u001b[39min\u001b[39;00m \u001b[39mrange\u001b[39m(\u001b[39mlen\u001b[39m(sol[i])\u001b[39m-\u001b[39m\u001b[39m1\u001b[39m))\n",
      "\u001b[1;31mTypeError\u001b[0m: tuple indices must be integers or slices, not dict"
     ]
    }
   ],
   "source": [
    "import statistics\n",
    "import numpy as np\n",
    "random.seed(5)\n",
    "\n",
    "# paramètres du test\n",
    "tabou_min = 1\n",
    "tabou_max = 20\n",
    "nb_objets = 200\n",
    "\n",
    "nb_test  = 100\n",
    "iter_max = 20\n",
    "\n",
    "# on affiche la barre de progression\n",
    "nb_steps_bar = (tabou_max-tabou_min)*nb_test #\n",
    "bar = IntProgress(min=0, max=nb_steps_bar, layout={\"width\" : \"100%\"})\n",
    "display(bar)\n",
    "\n",
    "# pour stocker les résultats\n",
    "moyennes   = []\n",
    "deviations = []\n",
    "\n",
    "random.seed(5)\n",
    "\n",
    "# cette fois on boucle sur la taille de la liste tabou\n",
    "for taille_tabou in range(tabou_min, tabou_max):\n",
    "    bornes = deque(())\n",
    "    for _ in range(nb_test):\n",
    "\n",
    "        borne = borne_superieure()\n",
    "\n",
    "        solfin = recherche_tabou(sol, taille_tabou, iter_max)\n",
    "        val = weightSol(solfin)\n",
    "        distance = val*100/borne\n",
    "        bornes.append(distance)\n",
    "        bar.value += 1\n",
    "    moyennes.append(statistics.fmean(bornes))              \n",
    "    deviations.append(np.std(bornes))\n",
    "\n",
    "\n",
    "# on cache la barre de progression\n",
    "bar.close()\n",
    "\n",
    "# affichage de la courbe de moyenne\n",
    "plt.plot(range(tabou_min, tabou_max), moyennes)\n",
    "\n",
    "# affichage de la bande d'écart-type\n",
    "plt.fill_between(range(tabou_min, tabou_max),\n",
    "                 np.subtract(moyennes, deviations), # borne haute\n",
    "                 np.add(moyennes, deviations),      # borne basse\n",
    "                 alpha=.1)                          # transparence\n",
    "plt.xlabel(\"taille de la liste tabou\")\n",
    "plt.ylabel(\"distance à la borne\")\n",
    "plt.title(\"Impact de la taille de la liste tabou sur la qualité des solutions\")\n",
    "plt.show()"
   ]
  },
  {
   "cell_type": "markdown",
   "metadata": {},
   "source": [
    "## Impact des paramètres d'instance"
   ]
  },
  {
   "cell_type": "code",
   "execution_count": 26,
   "metadata": {},
   "outputs": [
    {
     "data": {
      "application/vnd.jupyter.widget-view+json": {
       "model_id": "2e1d0d14aa26483b88516414f01aa9a8",
       "version_major": 2,
       "version_minor": 0
      },
      "text/plain": [
       "IntProgress(value=0, layout=Layout(width='100%'), max=3990)"
      ]
     },
     "metadata": {},
     "output_type": "display_data"
    },
    {
     "ename": "TypeError",
     "evalue": "tuple indices must be integers or slices, not dict",
     "output_type": "error",
     "traceback": [
      "\u001b[1;31m---------------------------------------------------------------------------\u001b[0m",
      "\u001b[1;31mTypeError\u001b[0m                                 Traceback (most recent call last)",
      "\u001b[1;32mc:\\Users\\1113752\\Documents\\GitHub\\Projet_Algo-Dur\\testfred.ipynb Cell 13'\u001b[0m in \u001b[0;36m<cell line: 23>\u001b[1;34m()\u001b[0m\n\u001b[0;32m     <a href='vscode-notebook-cell:/c%3A/Users/1113752/Documents/GitHub/Projet_Algo-Dur/testfred.ipynb#ch0000012?line=25'>26</a>\u001b[0m borne \u001b[39m=\u001b[39m borne_superieure()                            \n\u001b[0;32m     <a href='vscode-notebook-cell:/c%3A/Users/1113752/Documents/GitHub/Projet_Algo-Dur/testfred.ipynb#ch0000012?line=27'>28</a>\u001b[0m solfin \u001b[39m=\u001b[39m recherche_tabou(sol, taille_tabou, iter_max)\n\u001b[1;32m---> <a href='vscode-notebook-cell:/c%3A/Users/1113752/Documents/GitHub/Projet_Algo-Dur/testfred.ipynb#ch0000012?line=28'>29</a>\u001b[0m val \u001b[39m=\u001b[39m weightSol(solfin)\n\u001b[0;32m     <a href='vscode-notebook-cell:/c%3A/Users/1113752/Documents/GitHub/Projet_Algo-Dur/testfred.ipynb#ch0000012?line=29'>30</a>\u001b[0m distance \u001b[39m=\u001b[39m val\u001b[39m*\u001b[39m\u001b[39m100\u001b[39m\u001b[39m/\u001b[39mborne\n\u001b[0;32m     <a href='vscode-notebook-cell:/c%3A/Users/1113752/Documents/GitHub/Projet_Algo-Dur/testfred.ipynb#ch0000012?line=30'>31</a>\u001b[0m bornes\u001b[39m.\u001b[39mappend(distance)\n",
      "\u001b[1;32mc:\\Users\\1113752\\Documents\\GitHub\\Projet_Algo-Dur\\testfred.ipynb Cell 1'\u001b[0m in \u001b[0;36mweightSol\u001b[1;34m(sol)\u001b[0m\n\u001b[0;32m    <a href='vscode-notebook-cell:/c%3A/Users/1113752/Documents/GitHub/Projet_Algo-Dur/testfred.ipynb#ch0000000?line=101'>102</a>\u001b[0m \u001b[39mdef\u001b[39;00m \u001b[39mweightSol\u001b[39m(sol):\n\u001b[1;32m--> <a href='vscode-notebook-cell:/c%3A/Users/1113752/Documents/GitHub/Projet_Algo-Dur/testfred.ipynb#ch0000000?line=102'>103</a>\u001b[0m     \u001b[39mreturn\u001b[39;00m \u001b[39msum\u001b[39;49m(matricePondere[sol[i][j]][sol[i][j\u001b[39m+\u001b[39;49m\u001b[39m1\u001b[39;49m]] \u001b[39mfor\u001b[39;49;00m i \u001b[39min\u001b[39;49;00m sol \u001b[39mfor\u001b[39;49;00m j \u001b[39min\u001b[39;49;00m \u001b[39mrange\u001b[39;49m(\u001b[39mlen\u001b[39;49m(sol[i])\u001b[39m-\u001b[39;49m\u001b[39m1\u001b[39;49m))\n",
      "\u001b[1;32mc:\\Users\\1113752\\Documents\\GitHub\\Projet_Algo-Dur\\testfred.ipynb Cell 1'\u001b[0m in \u001b[0;36m<genexpr>\u001b[1;34m(.0)\u001b[0m\n\u001b[0;32m    <a href='vscode-notebook-cell:/c%3A/Users/1113752/Documents/GitHub/Projet_Algo-Dur/testfred.ipynb#ch0000000?line=101'>102</a>\u001b[0m \u001b[39mdef\u001b[39;00m \u001b[39mweightSol\u001b[39m(sol):\n\u001b[1;32m--> <a href='vscode-notebook-cell:/c%3A/Users/1113752/Documents/GitHub/Projet_Algo-Dur/testfred.ipynb#ch0000000?line=102'>103</a>\u001b[0m     \u001b[39mreturn\u001b[39;00m \u001b[39msum\u001b[39m(matricePondere[sol[i][j]][sol[i][j\u001b[39m+\u001b[39m\u001b[39m1\u001b[39m]] \u001b[39mfor\u001b[39;00m i \u001b[39min\u001b[39;00m sol \u001b[39mfor\u001b[39;00m j \u001b[39min\u001b[39;00m \u001b[39mrange\u001b[39m(\u001b[39mlen\u001b[39m(sol[i])\u001b[39m-\u001b[39m\u001b[39m1\u001b[39m))\n",
      "\u001b[1;31mTypeError\u001b[0m: tuple indices must be integers or slices, not dict"
     ]
    }
   ],
   "source": [
    "random.seed(5)\n",
    "\n",
    "# paramètres du test\n",
    "objets_min   = 20\n",
    "objets_max   = 220\n",
    "objets_steps = 20\n",
    "nb_test      = 200\n",
    "\n",
    "taille_tabou = 5\n",
    "iter_max     = taille_tabou*2\n",
    "\n",
    "nb_steps_bar = (tabou_max-tabou_min/objets_steps)*nb_test\n",
    "\n",
    "# on affiche la barre de progression\n",
    "bar = IntProgress(min=0, max=nb_steps_bar, layout={\"width\" : \"100%\"})\n",
    "display(bar)\n",
    "\n",
    "# pour stocker les résultats\n",
    "moyennes   = []\n",
    "deviations = []\n",
    "\n",
    "# on fait varier le nombre d'objets dans la génération aléatoire d'instances\n",
    "for nb_objets in range(objets_min, objets_max, objets_steps): \n",
    "    bornes = deque(())                                        \n",
    "    for _ in range(nb_test):                                                                       \n",
    "        borne = borne_superieure()                            \n",
    "                                                            \n",
    "        solfin = recherche_tabou(sol, taille_tabou, iter_max)\n",
    "        val = weightSol(solfin)\n",
    "        distance = val*100/borne\n",
    "        bornes.append(distance)\n",
    "        bar.value += 1                              \n",
    "    moyennes.append(statistics.fmean(bornes))                \n",
    "    deviations.append(np.std(bornes)) \n",
    "\n",
    "\n",
    "# on cache la barre de progression\n",
    "bar.close()\n",
    "\n",
    "# affichage de la courbe de moyenne\n",
    "plt.plot(range(objets_min, objets_max, objets_steps), moyennes)\n",
    "\n",
    "# affichage de la bande d'écart-type\n",
    "plt.fill_between(range(objets_min, objets_max, objets_steps),\n",
    "                 np.subtract(moyennes, deviations), # borne haute\n",
    "                 np.add(moyennes, deviations),      # borne basse\n",
    "                 alpha=.1)                          # transparence\n",
    "plt.ylim(top=100)\n",
    "plt.xlabel(\"nombre d'objets disponibles\")\n",
    "plt.ylabel(\"distance à la borne\")\n",
    "plt.title(\"Impact du nombre d'objets sur la qualité des solutions\")\n",
    "plt.show()"
   ]
  }
 ],
 "metadata": {
  "kernelspec": {
   "display_name": "Python 3.10.5 64-bit (windows store)",
   "language": "python",
   "name": "python3"
  },
  "language_info": {
   "codemirror_mode": {
    "name": "ipython",
    "version": 3
   },
   "file_extension": ".py",
   "mimetype": "text/x-python",
   "name": "python",
   "nbconvert_exporter": "python",
   "pygments_lexer": "ipython3",
   "version": "3.10.5"
  },
  "orig_nbformat": 4,
  "vscode": {
   "interpreter": {
    "hash": "df89aa0b572c996063df9cfcca5f2f73d37e1ef5e37c1f8b08af1523ed868f34"
   }
  }
 },
 "nbformat": 4,
 "nbformat_minor": 2
}
